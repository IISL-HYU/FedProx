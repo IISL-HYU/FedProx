{
 "cells": [
  {
   "cell_type": "code",
   "execution_count": 2,
   "id": "574b903b",
   "metadata": {},
   "outputs": [],
   "source": [
    "import tensorflow as tf\n",
    "from tensorflow import keras\n",
    "from keras import layers, models\n",
    "\n",
    "from IISL_FLpkg.model_custom import CustomModelList, CustomModel\n",
    "\n",
    "\n",
    "def model_generation(N, metric, code):\n",
    "    random_seed = 4\n",
    "    tf.random.set_seed(random_seed)\n",
    "  \n",
    "    all_models = CustomModelList()\n",
    "    loss_fn = keras.losses.SparseCategoricalCrossentropy()\n",
    "    if (code==1):\n",
    "        for i in range(N):\n",
    "            model = models.Sequential()\n",
    "            model.add(layers.Conv2D(32, (3, 3), activation='relu', input_shape=(28, 28, 1)))\n",
    "            model.add(layers.MaxPooling2D((2, 2)))\n",
    "            model.add(layers.Conv2D(64, (3, 3), activation='relu'))\n",
    "            model.add(layers.MaxPooling2D((2, 2)))\n",
    "            model.add(layers.Flatten())\n",
    "            model.add(layers.Dense(10, activation='softmax'))\n",
    "            tf.random.set_seed(random_seed)\n",
    "            model1 = CustomModel(model)\n",
    "            model1.compile(optimizer='adam', loss=loss_fn, metrics=metric)\n",
    "            all_models.append(model1)\n",
    "        model = models.Sequential()\n",
    "        model.add(layers.Conv2D(32, (3, 3), activation='relu', input_shape=(28, 28, 1)))\n",
    "        model.add(layers.MaxPooling2D((2, 2)))\n",
    "        model.add(layers.Conv2D(64, (3, 3), activation='relu'))\n",
    "        model.add(layers.MaxPooling2D((2, 2)))\n",
    "        model.add(layers.Flatten())\n",
    "        model.add(layers.Dense(10, activation='softmax'))\n",
    "        tf.random.set_seed(random_seed)\n",
    "        central_server = CustomModel(model)\n",
    "        central_server.compile(optimizer='adam', loss=loss_fn, metrics=[tf.keras.metrics.SparseCategoricalAccuracy()])\n",
    "    else:\n",
    "        for i in range(N):\n",
    "            model = models.Sequential()\n",
    "            model.add(layers.Dense(20, activation='relu', input_dim = 60))\n",
    "            model.add(layers.Dense(32, activation='relu'))\n",
    "            model.add(layers.Dense(10, activation='softmax'))\n",
    "            tf.random.set_seed(random_seed)\n",
    "            model1 = CustomModel(model)\n",
    "            model1.compile(optimizer=tf.keras.optimizers.SGD(learning_rate=0.05), loss=loss_fn)\n",
    "            all_models.append(model1)\n",
    "        model = models.Sequential()\n",
    "        model.add(layers.Dense(20, activation='relu', input_dim = 60))\n",
    "        model.add(layers.Dense(32, activation='relu'))\n",
    "        model.add(layers.Dense(10, activation='softmax'))\n",
    "        tf.random.set_seed(random_seed)\n",
    "        central_server = CustomModel(model)\n",
    "        central_server.compile(optimizer=tf.keras.optimizers.SGD(learning_rate=0.05), loss=loss_fn)\n",
    "            \n",
    "    return all_models, central_server\n"
   ]
  },
  {
   "cell_type": "code",
   "execution_count": 3,
   "id": "93cbc9f5",
   "metadata": {},
   "outputs": [
    {
     "name": "stderr",
     "output_type": "stream",
     "text": [
      "2022-04-26 09:53:43.544265: I tensorflow/core/common_runtime/pluggable_device/pluggable_device_factory.cc:305] Could not identify NUMA node of platform GPU ID 0, defaulting to 0. Your kernel may not have been built with NUMA support.\n",
      "2022-04-26 09:53:43.544677: I tensorflow/core/common_runtime/pluggable_device/pluggable_device_factory.cc:271] Created TensorFlow device (/job:localhost/replica:0/task:0/device:GPU:0 with 0 MB memory) -> physical PluggableDevice (device: 0, name: METAL, pci bus id: <undefined>)\n"
     ]
    },
    {
     "name": "stdout",
     "output_type": "stream",
     "text": [
      "Metal device set to: Apple M1\n"
     ]
    }
   ],
   "source": [
    "sca_metric = keras.metrics.SparseCategoricalAccuracy(name=\"sca\")\n",
    "all_model, cs = model_generation(30, sca_metric, 0)"
   ]
  },
  {
   "cell_type": "code",
   "execution_count": 4,
   "id": "3dc8cc5f",
   "metadata": {},
   "outputs": [],
   "source": [
    "trainable_vars = cs.model.trainable_variables"
   ]
  },
  {
   "cell_type": "code",
   "execution_count": null,
   "id": "a539e098",
   "metadata": {},
   "outputs": [],
   "source": [
    "t"
   ]
  }
 ],
 "metadata": {
  "kernelspec": {
   "display_name": "Python 3 (ipykernel)",
   "language": "python",
   "name": "python3"
  },
  "language_info": {
   "codemirror_mode": {
    "name": "ipython",
    "version": 3
   },
   "file_extension": ".py",
   "mimetype": "text/x-python",
   "name": "python",
   "nbconvert_exporter": "python",
   "pygments_lexer": "ipython3",
   "version": "3.9.10"
  }
 },
 "nbformat": 4,
 "nbformat_minor": 5
}
