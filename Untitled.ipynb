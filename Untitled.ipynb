{
 "cells": [
  {
   "cell_type": "code",
   "execution_count": 1,
   "id": "f2855afb",
   "metadata": {},
   "outputs": [],
   "source": [
    "import numpy as np\n",
    "\n",
    "def softmax(Z):\n",
    "    MAX = np.exp(Z)/np.sum(np.exp(Z))\n",
    "    return MAX\n",
    "\n",
    "def generate_synthetic(alpha, beta, N, D, C, iid):\n",
    "    #samples_per_user = np.random.lognormal(4, 2, N).astype(int) + 50\n",
    "    samples_per_user = [1000 for _ in range(N)]\n",
    "    \n",
    "    X_split = [[] for _ in range(N)]\n",
    "    Y_split = [[] for _ in range(N)]\n",
    "    \n",
    "    mean_W = np.random.normal(0, alpha, N)\n",
    "    mean_b = mean_W\n",
    "    B = np.random.normal(0, beta, N)\n",
    "    mean_x = np.zeros((N, D))\n",
    "    \n",
    "    diagonal = np.zeros(D)\n",
    "    for i in range(D):\n",
    "        diagonal[i] = np.power((i+1), -1.2)\n",
    "    Sigma = np.diag(diagonal)\n",
    "    \n",
    "    for i in range(N):\n",
    "        if iid == 1:\n",
    "            mean_x[i] = np.ones(D)*B[i]\n",
    "        else:\n",
    "            mean_x[i] = np.random.normal(B[i], 1, D)\n",
    "            \n",
    "    if iid == 1:\n",
    "        W_global = np.random.normal(0, 1, (D, N))\n",
    "        b_global = np.random.normal(0, 1,  N)\n",
    "        \n",
    "    \n",
    "    for i in range(N):\n",
    "        W = np.random.normal(mean_W[i], 1, (D, C))\n",
    "        b = np.random.normal(mean_b[i], 1, C)\n",
    "        \n",
    "        if iid == 1:\n",
    "            W = W_global\n",
    "            b = b_global\n",
    "        \n",
    "        X = np.random.multivariate_normal(mean_x[i], Sigma, samples_per_user[i])\n",
    "        Y = np.zeros(samples_per_user[i])\n",
    "\n",
    "        for j in range(samples_per_user[i]):\n",
    "            Y[j] = np.argmax(softmax(np.dot(X[j], W) + b))\n",
    "    \n",
    "        X_split[i] = X\n",
    "        Y_split[i] = Y\n",
    "    \n",
    "    return X_split, Y_split"
   ]
  },
  {
   "cell_type": "code",
   "execution_count": 2,
   "id": "364765c4",
   "metadata": {},
   "outputs": [],
   "source": [
    "x, y = generate_synthetic(0, 0, 30, 60, 10, 0)"
   ]
  },
  {
   "cell_type": "code",
   "execution_count": 3,
   "id": "8d9427fb",
   "metadata": {},
   "outputs": [
    {
     "data": {
      "text/plain": [
       "1000"
      ]
     },
     "execution_count": 3,
     "metadata": {},
     "output_type": "execute_result"
    }
   ],
   "source": [
    "len(x[1])"
   ]
  },
  {
   "cell_type": "code",
   "execution_count": null,
   "id": "7cf186a1",
   "metadata": {},
   "outputs": [],
   "source": []
  }
 ],
 "metadata": {
  "kernelspec": {
   "display_name": "Python 3 (ipykernel)",
   "language": "python",
   "name": "python3"
  },
  "language_info": {
   "codemirror_mode": {
    "name": "ipython",
    "version": 3
   },
   "file_extension": ".py",
   "mimetype": "text/x-python",
   "name": "python",
   "nbconvert_exporter": "python",
   "pygments_lexer": "ipython3",
   "version": "3.9.10"
  }
 },
 "nbformat": 4,
 "nbformat_minor": 5
}
