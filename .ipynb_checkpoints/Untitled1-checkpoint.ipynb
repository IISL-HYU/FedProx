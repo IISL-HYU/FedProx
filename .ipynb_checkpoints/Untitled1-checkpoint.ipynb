{
 "cells": [
  {
   "cell_type": "code",
   "execution_count": 1,
   "id": "e2b539a2",
   "metadata": {},
   "outputs": [
    {
     "ename": "ImportError",
     "evalue": "attempted relative import with no known parent package",
     "output_type": "error",
     "traceback": [
      "\u001b[0;31m---------------------------------------------------------------------------\u001b[0m",
      "\u001b[0;31mImportError\u001b[0m                               Traceback (most recent call last)",
      "Input \u001b[0;32mIn [1]\u001b[0m, in \u001b[0;36m<cell line: 5>\u001b[0;34m()\u001b[0m\n\u001b[1;32m      2\u001b[0m \u001b[38;5;28;01mfrom\u001b[39;00m \u001b[38;5;21;01mtensorflow\u001b[39;00m \u001b[38;5;28;01mimport\u001b[39;00m keras\n\u001b[1;32m      3\u001b[0m \u001b[38;5;28;01mfrom\u001b[39;00m \u001b[38;5;21;01mkeras\u001b[39;00m \u001b[38;5;28;01mimport\u001b[39;00m layers, models\n\u001b[0;32m----> 5\u001b[0m \u001b[38;5;28;01mfrom\u001b[39;00m \u001b[38;5;21;01m.\u001b[39;00m\u001b[38;5;21;01mmodel_custom\u001b[39;00m \u001b[38;5;28;01mimport\u001b[39;00m CustomModelList, CustomModel\n\u001b[1;32m      8\u001b[0m \u001b[38;5;28;01mdef\u001b[39;00m \u001b[38;5;21mmodel_generation\u001b[39m(N, metric, code):\n\u001b[1;32m      9\u001b[0m     random_seed \u001b[38;5;241m=\u001b[39m \u001b[38;5;241m4\u001b[39m\n",
      "\u001b[0;31mImportError\u001b[0m: attempted relative import with no known parent package"
     ]
    }
   ],
   "source": [
    "import tensorflow as tf\n",
    "from tensorflow import keras\n",
    "from keras import layers, models\n",
    "\n",
    "from .model_custom import CustomModelList, CustomModel\n",
    "\n",
    "\n",
    "def model_generation(N, metric, code):\n",
    "    random_seed = 4\n",
    "    tf.random.set_seed(random_seed)\n",
    "  \n",
    "    all_models = CustomModelList()\n",
    "    loss_fn = keras.losses.SparseCategoricalCrossentropy()\n",
    "    if (code==1):\n",
    "        for i in range(N):\n",
    "            model = models.Sequential()\n",
    "            model.add(layers.Conv2D(32, (3, 3), activation='relu', input_shape=(28, 28, 1)))\n",
    "            model.add(layers.MaxPooling2D((2, 2)))\n",
    "            model.add(layers.Conv2D(64, (3, 3), activation='relu'))\n",
    "            model.add(layers.MaxPooling2D((2, 2)))\n",
    "            model.add(layers.Flatten())\n",
    "            model.add(layers.Dense(10, activation='softmax'))\n",
    "            tf.random.set_seed(random_seed)\n",
    "            model1 = CustomModel(model)\n",
    "            model1.compile(optimizer='adam', loss=loss_fn, metrics=metric)\n",
    "            all_models.append(model1)\n",
    "        model = models.Sequential()\n",
    "        model.add(layers.Conv2D(32, (3, 3), activation='relu', input_shape=(28, 28, 1)))\n",
    "        model.add(layers.MaxPooling2D((2, 2)))\n",
    "        model.add(layers.Conv2D(64, (3, 3), activation='relu'))\n",
    "        model.add(layers.MaxPooling2D((2, 2)))\n",
    "        model.add(layers.Flatten())\n",
    "        model.add(layers.Dense(10, activation='softmax'))\n",
    "        tf.random.set_seed(random_seed)\n",
    "        central_server = CustomModel(model)\n",
    "        central_server.compile(optimizer='adam', loss=loss_fn, metrics=[tf.keras.metrics.SparseCategoricalAccuracy()])\n",
    "    else:\n",
    "        for i in range(N):\n",
    "            model = models.Sequential()\n",
    "            model.add(layers.Dense(20, activation='relu', input_dim = 60))\n",
    "            model.add(layers.Dense(32, activation='relu'))\n",
    "            model.add(layers.Dense(10, activation='softmax'))\n",
    "            tf.random.set_seed(random_seed)\n",
    "            model1 = CustomModel(model)\n",
    "            model1.compile(optimizer=tf.keras.optimizers.SGD(learning_rate=0.05), loss=loss_fn)\n",
    "            all_models.append(model1)\n",
    "        model = models.Sequential()\n",
    "        model.add(layers.Dense(20, activation='relu', input_dim = 60))\n",
    "        model.add(layers.Dense(32, activation='relu'))\n",
    "        model.add(layers.Dense(10, activation='softmax'))\n",
    "        tf.random.set_seed(random_seed)\n",
    "        central_server = CustomModel(model)\n",
    "        central_server.compile(optimizer=tf.keras.optimizers.SGD(learning_rate=0.05), loss=loss_fn)\n",
    "            \n",
    "    return all_models, central_server\n"
   ]
  },
  {
   "cell_type": "code",
   "execution_count": null,
   "id": "2e49894c",
   "metadata": {},
   "outputs": [],
   "source": []
  }
 ],
 "metadata": {
  "kernelspec": {
   "display_name": "Python 3 (ipykernel)",
   "language": "python",
   "name": "python3"
  },
  "language_info": {
   "codemirror_mode": {
    "name": "ipython",
    "version": 3
   },
   "file_extension": ".py",
   "mimetype": "text/x-python",
   "name": "python",
   "nbconvert_exporter": "python",
   "pygments_lexer": "ipython3",
   "version": "3.9.10"
  }
 },
 "nbformat": 4,
 "nbformat_minor": 5
}
