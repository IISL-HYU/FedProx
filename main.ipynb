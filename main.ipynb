{
 "cells": [
  {
   "cell_type": "code",
   "execution_count": 1,
   "metadata": {},
   "outputs": [
    {
     "name": "stderr",
     "output_type": "stream",
     "text": [
      "2022-04-26 09:41:10.378495: I tensorflow/core/common_runtime/pluggable_device/pluggable_device_factory.cc:305] Could not identify NUMA node of platform GPU ID 0, defaulting to 0. Your kernel may not have been built with NUMA support.\n",
      "2022-04-26 09:41:10.378588: I tensorflow/core/common_runtime/pluggable_device/pluggable_device_factory.cc:271] Created TensorFlow device (/job:localhost/replica:0/task:0/device:GPU:0 with 0 MB memory) -> physical PluggableDevice (device: 0, name: METAL, pci bus id: <undefined>)\n"
     ]
    },
    {
     "name": "stdout",
     "output_type": "stream",
     "text": [
      "Metal device set to: Apple M1\n"
     ]
    },
    {
     "ename": "InvalidArgumentError",
     "evalue": "Shapes of all inputs must match: values[0].shape = [60,20] != values[1].shape = [20] [Op:Pack] name: packed",
     "output_type": "error",
     "traceback": [
      "\u001b[0;31m---------------------------------------------------------------------------\u001b[0m",
      "\u001b[0;31mInvalidArgumentError\u001b[0m                      Traceback (most recent call last)",
      "Input \u001b[0;32mIn [1]\u001b[0m, in \u001b[0;36m<cell line: 21>\u001b[0;34m()\u001b[0m\n\u001b[1;32m     27\u001b[0m     x[i] \u001b[38;5;241m=\u001b[39m X[index][sel\u001b[38;5;241m*\u001b[39m\u001b[38;5;241m10\u001b[39m:(sel\u001b[38;5;241m+\u001b[39m\u001b[38;5;241m1\u001b[39m)\u001b[38;5;241m*\u001b[39m\u001b[38;5;241m10\u001b[39m]\n\u001b[1;32m     28\u001b[0m     y[i] \u001b[38;5;241m=\u001b[39m Y[index][sel\u001b[38;5;241m*\u001b[39m\u001b[38;5;241m10\u001b[39m:(sel\u001b[38;5;241m+\u001b[39m\u001b[38;5;241m1\u001b[39m)\u001b[38;5;241m*\u001b[39m\u001b[38;5;241m10\u001b[39m]\n\u001b[0;32m---> 30\u001b[0m results \u001b[38;5;241m=\u001b[39m \u001b[43mall_models\u001b[49m\u001b[38;5;241;43m.\u001b[39;49m\u001b[43mfed_prox\u001b[49m\u001b[43m(\u001b[49m\u001b[43mx\u001b[49m\u001b[43m,\u001b[49m\u001b[43m \u001b[49m\u001b[43my\u001b[49m\u001b[43m,\u001b[49m\u001b[43m \u001b[49m\u001b[43msca_metric\u001b[49m\u001b[43m,\u001b[49m\u001b[43m \u001b[49m\u001b[43mcentral_server\u001b[49m\u001b[43m)\u001b[49m\n\u001b[1;32m     31\u001b[0m loss_list\u001b[38;5;241m.\u001b[39mappend(results[\u001b[38;5;241m0\u001b[39m])\n\u001b[1;32m     32\u001b[0m accuracy_list\u001b[38;5;241m.\u001b[39mappend(results[\u001b[38;5;241m1\u001b[39m])\n",
      "File \u001b[0;32m~/FedQOGD/IISL_FLpkg/model_custom.py:40\u001b[0m, in \u001b[0;36mCustomModelList.fed_prox\u001b[0;34m(self, x, y, metric, central_server)\u001b[0m\n\u001b[1;32m     38\u001b[0m sca_metric_avg \u001b[38;5;241m=\u001b[39m \u001b[38;5;241m0\u001b[39m\n\u001b[1;32m     39\u001b[0m \u001b[38;5;28;01mfor\u001b[39;00m i, model \u001b[38;5;129;01min\u001b[39;00m \u001b[38;5;28menumerate\u001b[39m(\u001b[38;5;28mself\u001b[39m):\n\u001b[0;32m---> 40\u001b[0m   train_results \u001b[38;5;241m=\u001b[39m \u001b[43mmodel\u001b[49m\u001b[38;5;241;43m.\u001b[39;49m\u001b[43mtrain_step_prox\u001b[49m\u001b[43m(\u001b[49m\u001b[43mx\u001b[49m\u001b[43m[\u001b[49m\u001b[43mi\u001b[49m\u001b[43m]\u001b[49m\u001b[43m,\u001b[49m\u001b[43m \u001b[49m\u001b[43my\u001b[49m\u001b[43m[\u001b[49m\u001b[43mi\u001b[49m\u001b[43m]\u001b[49m\u001b[43m,\u001b[49m\u001b[43m \u001b[49m\u001b[43mmetric\u001b[49m\u001b[43m,\u001b[49m\u001b[43m \u001b[49m\u001b[43mtrainable_vars\u001b[49m\u001b[43m)\u001b[49m\n\u001b[1;32m     41\u001b[0m   loss_avg \u001b[38;5;241m+\u001b[39m\u001b[38;5;241m=\u001b[39m train_results[\u001b[38;5;241m1\u001b[39m]\n\u001b[1;32m     42\u001b[0m   sca_metric_avg \u001b[38;5;241m+\u001b[39m\u001b[38;5;241m=\u001b[39m train_results[\u001b[38;5;241m2\u001b[39m]\n",
      "File \u001b[0;32m~/FedQOGD/IISL_FLpkg/model_custom.py:239\u001b[0m, in \u001b[0;36mCustomModel.train_step_prox\u001b[0;34m(self, x, y, metric, former_weight)\u001b[0m\n\u001b[1;32m    237\u001b[0m \u001b[38;5;66;03m# Compute gradients\u001b[39;00m\n\u001b[1;32m    238\u001b[0m trainable_vars \u001b[38;5;241m=\u001b[39m \u001b[38;5;28mself\u001b[39m\u001b[38;5;241m.\u001b[39mmodel\u001b[38;5;241m.\u001b[39mtrainable_variables\n\u001b[0;32m--> 239\u001b[0m proximal \u001b[38;5;241m=\u001b[39m \u001b[38;5;241m10\u001b[39m\u001b[38;5;241m*\u001b[39mu\u001b[38;5;241m/\u001b[39m\u001b[38;5;241m2\u001b[39m\u001b[38;5;241m*\u001b[39m\u001b[43mkeras\u001b[49m\u001b[38;5;241;43m.\u001b[39;49m\u001b[43mlosses\u001b[49m\u001b[38;5;241;43m.\u001b[39;49m\u001b[43mmean_squared_error\u001b[49m\u001b[43m(\u001b[49m\u001b[43mtrainable_vars\u001b[49m\u001b[43m,\u001b[49m\u001b[43m \u001b[49m\u001b[43mformer_weight\u001b[49m\u001b[43m)\u001b[49m\n\u001b[1;32m    240\u001b[0m gradients \u001b[38;5;241m=\u001b[39m tape\u001b[38;5;241m.\u001b[39mgradient(loss\u001b[38;5;241m+\u001b[39mproximal, trainable_vars)\n\u001b[1;32m    241\u001b[0m \u001b[38;5;66;03m# # Update weights\u001b[39;00m\n\u001b[1;32m    242\u001b[0m \u001b[38;5;66;03m# self.optimizer.apply_gradients(zip(gradients, trainable_vars))\u001b[39;00m\n\u001b[1;32m    243\u001b[0m \u001b[38;5;66;03m# # Update metrics (includes the metric that tracks the loss)\u001b[39;00m\n",
      "File \u001b[0;32m/opt/homebrew/Caskroom/miniforge/base/envs/env_tensorflow/lib/python3.9/site-packages/tensorflow/python/util/traceback_utils.py:153\u001b[0m, in \u001b[0;36mfilter_traceback.<locals>.error_handler\u001b[0;34m(*args, **kwargs)\u001b[0m\n\u001b[1;32m    151\u001b[0m \u001b[38;5;28;01mexcept\u001b[39;00m \u001b[38;5;167;01mException\u001b[39;00m \u001b[38;5;28;01mas\u001b[39;00m e:\n\u001b[1;32m    152\u001b[0m   filtered_tb \u001b[38;5;241m=\u001b[39m _process_traceback_frames(e\u001b[38;5;241m.\u001b[39m__traceback__)\n\u001b[0;32m--> 153\u001b[0m   \u001b[38;5;28;01mraise\u001b[39;00m e\u001b[38;5;241m.\u001b[39mwith_traceback(filtered_tb) \u001b[38;5;28;01mfrom\u001b[39;00m \u001b[38;5;28mNone\u001b[39m\n\u001b[1;32m    154\u001b[0m \u001b[38;5;28;01mfinally\u001b[39;00m:\n\u001b[1;32m    155\u001b[0m   \u001b[38;5;28;01mdel\u001b[39;00m filtered_tb\n",
      "File \u001b[0;32m/opt/homebrew/Caskroom/miniforge/base/envs/env_tensorflow/lib/python3.9/site-packages/keras/losses.py:1327\u001b[0m, in \u001b[0;36mmean_squared_error\u001b[0;34m(y_true, y_pred)\u001b[0m\n\u001b[1;32m   1299\u001b[0m \u001b[38;5;129m@keras_export\u001b[39m(\u001b[38;5;124m'\u001b[39m\u001b[38;5;124mkeras.metrics.mean_squared_error\u001b[39m\u001b[38;5;124m'\u001b[39m, \u001b[38;5;124m'\u001b[39m\u001b[38;5;124mkeras.metrics.mse\u001b[39m\u001b[38;5;124m'\u001b[39m,\n\u001b[1;32m   1300\u001b[0m               \u001b[38;5;124m'\u001b[39m\u001b[38;5;124mkeras.metrics.MSE\u001b[39m\u001b[38;5;124m'\u001b[39m, \u001b[38;5;124m'\u001b[39m\u001b[38;5;124mkeras.losses.mean_squared_error\u001b[39m\u001b[38;5;124m'\u001b[39m,\n\u001b[1;32m   1301\u001b[0m               \u001b[38;5;124m'\u001b[39m\u001b[38;5;124mkeras.losses.mse\u001b[39m\u001b[38;5;124m'\u001b[39m, \u001b[38;5;124m'\u001b[39m\u001b[38;5;124mkeras.losses.MSE\u001b[39m\u001b[38;5;124m'\u001b[39m)\n\u001b[1;32m   1302\u001b[0m \u001b[38;5;129m@tf\u001b[39m\u001b[38;5;241m.\u001b[39m__internal__\u001b[38;5;241m.\u001b[39mdispatch\u001b[38;5;241m.\u001b[39madd_dispatch_support\n\u001b[1;32m   1303\u001b[0m \u001b[38;5;28;01mdef\u001b[39;00m \u001b[38;5;21mmean_squared_error\u001b[39m(y_true, y_pred):\n\u001b[1;32m   1304\u001b[0m   \u001b[38;5;124;03m\"\"\"Computes the mean squared error between labels and predictions.\u001b[39;00m\n\u001b[1;32m   1305\u001b[0m \n\u001b[1;32m   1306\u001b[0m \u001b[38;5;124;03m  After computing the squared distance between the inputs, the mean value over\u001b[39;00m\n\u001b[0;32m   (...)\u001b[0m\n\u001b[1;32m   1325\u001b[0m \u001b[38;5;124;03m    Mean squared error values. shape = `[batch_size, d0, .. dN-1]`.\u001b[39;00m\n\u001b[1;32m   1326\u001b[0m \u001b[38;5;124;03m  \"\"\"\u001b[39;00m\n\u001b[0;32m-> 1327\u001b[0m   y_pred \u001b[38;5;241m=\u001b[39m \u001b[43mtf\u001b[49m\u001b[38;5;241;43m.\u001b[39;49m\u001b[43mconvert_to_tensor\u001b[49m\u001b[43m(\u001b[49m\u001b[43my_pred\u001b[49m\u001b[43m)\u001b[49m\n\u001b[1;32m   1328\u001b[0m   y_true \u001b[38;5;241m=\u001b[39m tf\u001b[38;5;241m.\u001b[39mcast(y_true, y_pred\u001b[38;5;241m.\u001b[39mdtype)\n\u001b[1;32m   1329\u001b[0m   \u001b[38;5;28;01mreturn\u001b[39;00m backend\u001b[38;5;241m.\u001b[39mmean(tf\u001b[38;5;241m.\u001b[39mmath\u001b[38;5;241m.\u001b[39msquared_difference(y_pred, y_true), axis\u001b[38;5;241m=\u001b[39m\u001b[38;5;241m-\u001b[39m\u001b[38;5;241m1\u001b[39m)\n",
      "\u001b[0;31mInvalidArgumentError\u001b[0m: Shapes of all inputs must match: values[0].shape = [60,20] != values[1].shape = [20] [Op:Pack] name: packed"
     ]
    }
   ],
   "source": [
    "from tensorflow import keras\n",
    "from keras import datasets\n",
    "from numpy import array\n",
    "from numpy.linalg import norm\n",
    "import random\n",
    "import IISL_FLpkg.data_generator as dg\n",
    "import IISL_FLpkg.model_generator as mg\n",
    "\n",
    "N = 30\n",
    "\n",
    "sca_metric = keras.metrics.SparseCategoricalAccuracy(name=\"sca\")\n",
    "all_models, central_server = mg.model_generation(10, sca_metric, 0)\n",
    "X, Y = dg.generate_synthetic(0, 0, N, 60, 10, 1)\n",
    "\n",
    "loss_list = []\n",
    "accuracy_list = []\n",
    "\n",
    "x = [[] for _ in range(10)]\n",
    "y = [[] for _ in range(10)]\n",
    "\n",
    "for iter in range(200):\n",
    "    random_numbers = random.sample(range(29),10)\n",
    "    for i in range(10):\n",
    "        index = random_numbers[i]\n",
    "        length = len(X[index])/10 - 1\n",
    "        sel = random.randint(0, int(length))\n",
    "        x[i] = X[index][sel*10:(sel+1)*10]\n",
    "        y[i] = Y[index][sel*10:(sel+1)*10]\n",
    "           \n",
    "    results = all_models.fed_prox(x, y, sca_metric, central_server)\n",
    "    loss_list.append(results[0])\n",
    "    accuracy_list.append(results[1])\n",
    "    if((iter+1)%10==0):\n",
    "        print(\"[0]loss : %.7f, sca : %.7f\" %( results[0], results[1]))"
   ]
  },
  {
   "cell_type": "markdown",
   "metadata": {},
   "source": [
    "## Result"
   ]
  },
  {
   "cell_type": "code",
   "execution_count": 9,
   "metadata": {},
   "outputs": [
    {
     "data": {
      "image/png": "[encoded data removed]",
      "text/plain": [
       "<Figure size 432x288 with 1 Axes>"
      ]
     },
     "metadata": {
      "needs_background": "light"
     },
     "output_type": "display_data"
    }
   ],
   "source": [
    "import matplotlib.pyplot as plt\n",
    "\n",
    "t1 = list(range(len(loss_list)))\n",
    "y1 = loss_list\n",
    "\n",
    "# plotting the points\n",
    "plt.plot(t1, y1, 'blue', label='Synthetic (0, 0)')\n",
    "\n",
    "plt.ylim([0, 3]) \n",
    "plt.legend(ncol = 1)\n",
    "\n",
    "# naming the x axis\n",
    "plt.xlabel('t')\n",
    "# naming the y axis\n",
    "plt.ylabel('Training Loss')\n",
    " \n",
    "# giving a title to my graph\n",
    " \n",
    "# function to show the plot\n",
    "plt.grid()\n",
    "plt.show()"
   ]
  },
  {
   "cell_type": "code",
   "execution_count": 6,
   "metadata": {},
   "outputs": [
    {
     "data": {
      "text/plain": [
       "10"
      ]
     },
     "execution_count": 6,
     "metadata": {},
     "output_type": "execute_result"
    }
   ],
   "source": [
    "len(all_models1)"
   ]
  },
  {
   "cell_type": "code",
   "execution_count": 5,
   "metadata": {},
   "outputs": [
    {
     "name": "stdout",
     "output_type": "stream",
     "text": [
      "52\n"
     ]
    }
   ],
   "source": [
    "k=len(X1[0])\n",
    "for i in range(len(X1)):\n",
    "    if(k>len(X1[i])):\n",
    "        k = len(X1[i])\n",
    "        \n",
    "print(k)"
   ]
  },
  {
   "cell_type": "code",
   "execution_count": 11,
   "metadata": {},
   "outputs": [
    {
     "ename": "IndexError",
     "evalue": "list index out of range",
     "output_type": "error",
     "traceback": [
      "\u001b[0;31m---------------------------------------------------------------------------\u001b[0m",
      "\u001b[0;31mIndexError\u001b[0m                                Traceback (most recent call last)",
      "Input \u001b[0;32mIn [11]\u001b[0m, in \u001b[0;36m<cell line: 1>\u001b[0;34m()\u001b[0m\n\u001b[0;32m----> 1\u001b[0m \u001b[38;5;28mlen\u001b[39m(\u001b[43mX5\u001b[49m\u001b[43m[\u001b[49m\u001b[38;5;241;43m30\u001b[39;49m\u001b[43m]\u001b[49m)\n",
      "\u001b[0;31mIndexError\u001b[0m: list index out of range"
     ]
    }
   ],
   "source": [
    "len(X5[30])"
   ]
  },
  {
   "cell_type": "code",
   "execution_count": 4,
   "metadata": {},
   "outputs": [
    {
     "data": {
      "text/plain": [
       "0"
      ]
     },
     "execution_count": 4,
     "metadata": {},
     "output_type": "execute_result"
    }
   ],
   "source": [
    "surv"
   ]
  },
  {
   "cell_type": "code",
   "execution_count": 68,
   "metadata": {},
   "outputs": [
    {
     "data": {
      "text/plain": [
       "26"
      ]
     },
     "execution_count": 68,
     "metadata": {},
     "output_type": "execute_result"
    }
   ],
   "source": [
    "len(x5)"
   ]
  },
  {
   "cell_type": "markdown",
   "metadata": {},
   "source": [
    "temp"
   ]
  },
  {
   "cell_type": "code",
   "execution_count": 7,
   "metadata": {},
   "outputs": [
    {
     "data": {
      "text/plain": [
       "10"
      ]
     },
     "execution_count": 7,
     "metadata": {},
     "output_type": "execute_result"
    }
   ],
   "source": [
    "len(random_numbers)"
   ]
  },
  {
   "cell_type": "code",
   "execution_count": 11,
   "metadata": {},
   "outputs": [
    {
     "data": {
      "text/plain": [
       "7"
      ]
     },
     "execution_count": 11,
     "metadata": {},
     "output_type": "execute_result"
    }
   ],
   "source": [
    "random_numbers[9]"
   ]
  },
  {
   "cell_type": "code",
   "execution_count": 6,
   "metadata": {},
   "outputs": [
    {
     "data": {
      "text/plain": [
       "30"
      ]
     },
     "execution_count": 6,
     "metadata": {},
     "output_type": "execute_result"
    }
   ],
   "source": [
    "len(x5)"
   ]
  },
  {
   "cell_type": "code",
   "execution_count": 4,
   "metadata": {},
   "outputs": [
    {
     "data": {
      "text/plain": [
       "array([[-5.74693826e-01,  1.65432452e+00,  9.13801053e-02,\n",
       "         7.18274102e-01, -7.19330674e-01,  1.13676088e+00,\n",
       "         1.06177916e+00, -8.64930921e-01, -8.23215482e-01,\n",
       "         1.55941829e-01,  2.22408312e+00,  8.49800552e-01,\n",
       "        -8.39895125e-01,  2.28983529e+00, -1.94852511e-01,\n",
       "         8.27177375e-01, -9.52668945e-01,  1.56655165e-01,\n",
       "        -5.30583117e-01, -1.21434092e+00, -1.97892514e+00,\n",
       "        -8.80905612e-01,  7.00564381e-02,  1.70054395e-01,\n",
       "         1.03035884e+00,  1.35180072e+00,  7.24073271e-01,\n",
       "         6.66385970e-01,  4.71494151e-02,  7.35150749e-01,\n",
       "        -4.37471971e-02,  2.47858732e+00,  4.76662109e-01,\n",
       "        -1.06570315e+00,  2.66491292e-01,  5.77380699e-02,\n",
       "        -7.22678709e-01,  1.09113269e+00,  2.11150307e+00,\n",
       "         5.67141830e-01,  1.67586181e+00,  9.42089735e-01,\n",
       "         1.79247988e+00,  5.16491792e-01, -1.74769395e+00,\n",
       "        -1.67019536e+00, -4.25705251e-01,  2.26997645e+00,\n",
       "         2.18702057e-01,  5.95910886e-01, -2.28497760e-01,\n",
       "        -1.14040192e+00, -4.04316811e-01,  1.11301356e+00,\n",
       "         5.18654473e-01, -1.86217918e+00, -2.30252526e+00,\n",
       "         3.96038956e-01, -2.83290648e-01,  2.20207080e-02],\n",
       "       [ 1.01649482e+00,  2.01693029e+00, -1.51774497e-01,\n",
       "        -9.83873719e-01, -1.22446918e+00,  7.08895951e-01,\n",
       "         4.69382796e-01, -8.89408490e-01, -2.19664159e-01,\n",
       "         9.94395509e-02,  2.27517833e+00,  1.05518284e+00,\n",
       "        -1.13092498e+00,  2.25144197e+00,  4.45168157e-01,\n",
       "         9.91818207e-01, -1.36733459e+00,  1.26137870e-01,\n",
       "        -7.91305197e-01, -1.11577956e+00, -1.81542274e+00,\n",
       "        -1.03304336e+00,  2.21812955e-01,  4.98484289e-01,\n",
       "         7.37335155e-01,  1.24783466e+00,  9.96694574e-01,\n",
       "         6.04551456e-01, -2.30939365e-01,  4.75896254e-01,\n",
       "        -2.67952428e-01,  2.67805485e+00,  5.00957372e-01,\n",
       "        -1.32615253e+00,  2.95183669e-01, -3.74338952e-02,\n",
       "        -1.05582295e+00,  9.75130556e-01,  1.87622653e+00,\n",
       "         4.44911920e-01,  1.78930370e+00,  1.21034356e+00,\n",
       "         1.63613049e+00,  5.01398666e-01, -1.54639631e+00,\n",
       "        -1.55470009e+00, -5.52226064e-01,  2.15801890e+00,\n",
       "         2.16972400e-01,  7.65537965e-01, -9.32012708e-02,\n",
       "        -1.04512390e+00, -3.74598510e-01,  1.12827306e+00,\n",
       "         1.31262231e-01, -1.83446802e+00, -2.21321148e+00,\n",
       "         3.95784327e-01, -2.30034508e-01, -2.71728632e-01],\n",
       "       [ 1.21505448e+00,  7.76353187e-01,  4.44438278e-01,\n",
       "         3.31323677e-01, -7.95939135e-01,  7.03917911e-01,\n",
       "         1.04277906e+00, -5.69164440e-01, -3.21246212e-01,\n",
       "         3.79121259e-01,  1.74604437e+00,  1.06429033e+00,\n",
       "        -1.09763555e+00,  2.13533600e+00, -6.48274743e-02,\n",
       "         1.17332211e+00, -1.14202446e+00, -2.56605077e-01,\n",
       "        -5.05730347e-01, -9.75257410e-01, -1.82545422e+00,\n",
       "        -1.00962845e+00,  1.60832649e-01,  4.00843348e-01,\n",
       "         1.09666240e+00,  1.46305597e+00,  6.61541172e-01,\n",
       "         4.80402977e-01, -3.78232364e-01,  6.82023539e-01,\n",
       "        -2.22246669e-01,  2.46890942e+00,  4.00101868e-01,\n",
       "        -1.22577569e+00,  1.80458422e-01,  1.33931483e-02,\n",
       "        -7.50968647e-01,  1.10933135e+00,  2.06972776e+00,\n",
       "         6.51850189e-01,  1.66707772e+00,  1.07750524e+00,\n",
       "         1.39937900e+00,  5.05801710e-01, -1.56428400e+00,\n",
       "        -1.42270949e+00, -6.38988825e-01,  2.04159403e+00,\n",
       "         3.12090628e-02,  4.84049317e-01, -4.67852097e-02,\n",
       "        -1.31137200e+00, -3.66777660e-01,  1.28600381e+00,\n",
       "         1.09600961e-01, -1.83343625e+00, -1.92342802e+00,\n",
       "         4.12044042e-01, -1.50889332e-01, -9.38216864e-02],\n",
       "       [-6.76648192e-01,  2.12653026e+00,  2.04853592e-01,\n",
       "        -8.53488243e-01, -9.47137490e-01,  1.01954627e+00,\n",
       "         6.12502637e-01, -6.48174966e-01, -7.47555980e-01,\n",
       "         2.62221944e-01,  2.14878309e+00,  9.12660443e-01,\n",
       "        -9.64273480e-01,  2.06326276e+00, -1.42647207e-01,\n",
       "         1.12386964e+00, -9.67533001e-01, -4.22048991e-01,\n",
       "        -6.85276937e-01, -1.04531249e+00, -2.03401319e+00,\n",
       "        -1.15335849e+00,  2.18359542e-01,  3.03406472e-01,\n",
       "         9.42312381e-01,  1.47812583e+00,  1.01034251e+00,\n",
       "         4.68628007e-01, -3.29518068e-02,  4.03683362e-01,\n",
       "        -5.06415624e-02,  2.46744604e+00,  3.84981418e-01,\n",
       "        -1.11860554e+00,  4.11949063e-01,  9.77132590e-03,\n",
       "        -1.01339469e+00,  9.97497830e-01,  2.00354266e+00,\n",
       "         7.96860340e-01,  1.75683831e+00,  1.15387829e+00,\n",
       "         1.58964433e+00,  6.17314146e-01, -1.62196576e+00,\n",
       "        -1.49347695e+00, -3.85680891e-01,  2.29897376e+00,\n",
       "        -1.30964366e-01,  5.79089025e-01, -2.25450141e-02,\n",
       "        -1.24420004e+00, -4.10487327e-01,  1.17975441e+00,\n",
       "         3.92859106e-01, -1.78870558e+00, -2.38909142e+00,\n",
       "         4.00437629e-01, -3.32934762e-01, -1.53044683e-01],\n",
       "       [ 2.80662371e+00,  1.27501069e+00, -2.19017818e-01,\n",
       "        -2.27913406e-01, -8.60642910e-01,  8.08394820e-01,\n",
       "         1.49695580e+00, -1.15816312e+00, -1.70572683e-01,\n",
       "         5.22811992e-01,  2.09851259e+00,  1.41990874e+00,\n",
       "        -1.12929912e+00,  1.99779264e+00,  1.28677168e-01,\n",
       "         1.07695748e+00, -9.77582596e-01, -1.28668228e-01,\n",
       "        -6.33280285e-01, -1.09299762e+00, -1.67925421e+00,\n",
       "        -1.21182637e+00,  3.77507404e-01, -5.38275110e-02,\n",
       "         1.02037755e+00,  1.48579782e+00,  9.80523033e-01,\n",
       "         5.72823282e-01, -3.22874292e-01,  3.53997924e-01,\n",
       "        -7.77980742e-02,  2.68222474e+00,  4.02724810e-01,\n",
       "        -9.54113899e-01,  2.52656043e-01, -7.00968400e-02,\n",
       "        -7.68779517e-01,  1.03642714e+00,  1.86442482e+00,\n",
       "         8.06371372e-01,  1.67793970e+00,  1.07291566e+00,\n",
       "         1.54066725e+00,  4.78088203e-01, -1.71956464e+00,\n",
       "        -1.38472338e+00, -5.50296190e-01,  2.13733964e+00,\n",
       "         2.58062255e-03,  7.04294501e-01,  3.50219385e-03,\n",
       "        -9.71537074e-01, -5.52793269e-01,  1.12348925e+00,\n",
       "         3.07696976e-02, -1.81898331e+00, -2.10089882e+00,\n",
       "         4.58389135e-01, -1.63589131e-01, -2.91258663e-01],\n",
       "       [ 1.81529884e-01,  3.85951822e-01, -5.51303457e-01,\n",
       "         3.82138955e-02, -7.05038140e-01,  1.09713158e+00,\n",
       "         7.79945083e-01, -3.84779646e-01, -6.43594757e-01,\n",
       "         4.58815625e-01,  1.92635795e+00,  9.51359959e-01,\n",
       "        -1.59075205e+00,  1.78390623e+00, -4.94570621e-02,\n",
       "         1.00335705e+00, -1.09454189e+00,  6.80591353e-02,\n",
       "        -3.99319755e-01, -1.24901888e+00, -1.90610338e+00,\n",
       "        -9.86583201e-01,  3.76943654e-01,  2.69079186e-01,\n",
       "         7.16907291e-01,  1.13911861e+00,  8.55304460e-01,\n",
       "         6.53074546e-01, -2.64440102e-01,  7.48030095e-01,\n",
       "        -1.73769150e-01,  2.58457898e+00,  5.96852495e-01,\n",
       "        -1.07340823e+00,  2.13135712e-01, -1.03125372e-01,\n",
       "        -7.69250041e-01,  9.97601324e-01,  1.93707320e+00,\n",
       "         7.61670156e-01,  1.72403219e+00,  1.20686857e+00,\n",
       "         1.59715770e+00,  6.66165739e-01, -1.55131670e+00,\n",
       "        -1.57150231e+00, -4.94659721e-01,  1.94276124e+00,\n",
       "        -6.53498257e-02,  6.11459261e-01,  3.63242662e-02,\n",
       "        -1.16906341e+00, -4.17780456e-01,  1.25530568e+00,\n",
       "         2.57117125e-01, -1.68945745e+00, -2.19621282e+00,\n",
       "         4.74180862e-01, -3.86496147e-01, -1.47772107e-01],\n",
       "       [ 2.25149057e+00,  1.58981904e+00, -3.11994946e-02,\n",
       "        -6.14948839e-02, -1.70045357e+00,  1.11772928e+00,\n",
       "         8.96432821e-01, -3.97519679e-01, -5.66438550e-01,\n",
       "         4.10376598e-01,  1.52660747e+00,  1.20127961e+00,\n",
       "        -6.04490041e-01,  2.37647761e+00, -2.43348905e-01,\n",
       "         1.11973355e+00, -1.38456149e+00,  7.05478132e-02,\n",
       "        -3.39443427e-01, -8.53406399e-01, -1.91718666e+00,\n",
       "        -1.12250454e+00,  9.90784943e-02,  4.67940270e-01,\n",
       "         9.05584391e-01,  1.70811965e+00,  8.50616518e-01,\n",
       "         4.16652529e-01, -7.06455381e-02,  6.25542539e-01,\n",
       "        -4.51794138e-02,  2.56219209e+00,  6.78464225e-01,\n",
       "        -1.03621809e+00,  2.46302216e-01, -1.05534155e-01,\n",
       "        -7.96665716e-01,  9.49159280e-01,  2.03302701e+00,\n",
       "         6.88284150e-01,  1.78840639e+00,  1.10564639e+00,\n",
       "         1.56025869e+00,  5.58123717e-01, -1.65185103e+00,\n",
       "        -1.40721718e+00, -4.80848152e-01,  2.06898572e+00,\n",
       "        -1.23474243e-01,  7.16106470e-01, -2.86235685e-02,\n",
       "        -1.11185574e+00, -5.28253365e-01,  1.23912481e+00,\n",
       "         3.89570339e-01, -1.59507708e+00, -2.09845822e+00,\n",
       "         4.00788177e-01, -4.21807635e-01, -6.62000784e-02],\n",
       "       [ 4.82048733e-01,  1.28171129e+00, -3.92213150e-01,\n",
       "        -3.91200637e-01, -1.03589859e+00,  1.12899068e+00,\n",
       "         1.20973720e+00, -5.52896028e-01,  2.81071528e-01,\n",
       "         1.72677867e-02,  2.03489085e+00,  1.17331341e+00,\n",
       "        -8.66163671e-01,  2.40902794e+00, -1.73095858e-02,\n",
       "         1.31882067e+00, -1.03792183e+00,  5.47952174e-02,\n",
       "        -9.40779401e-01, -8.84062517e-01, -1.87379144e+00,\n",
       "        -1.14352199e+00,  3.63708566e-01,  8.95334664e-02,\n",
       "         1.02623551e+00,  1.60035572e+00,  5.83199543e-01,\n",
       "         4.37403585e-01, -5.59936526e-02,  6.93665282e-01,\n",
       "        -1.43372111e-02,  2.43669810e+00,  4.78695673e-01,\n",
       "        -1.08853428e+00, -6.97413519e-02,  8.83464344e-02,\n",
       "        -6.57918152e-01,  1.28217173e+00,  1.87514244e+00,\n",
       "         7.81390357e-01,  1.76923660e+00,  1.23388787e+00,\n",
       "         1.55155215e+00,  4.56114104e-01, -1.52448341e+00,\n",
       "        -1.78525575e+00, -4.23695487e-01,  2.08948179e+00,\n",
       "         8.03891734e-02,  6.44153819e-01, -5.04397179e-02,\n",
       "        -1.06661631e+00, -5.94476772e-01,  1.12782092e+00,\n",
       "         2.76329721e-01, -1.61966630e+00, -2.13697935e+00,\n",
       "         4.05472921e-01, -3.43772440e-01, -2.04436043e-01],\n",
       "       [-1.00426945e+00,  2.36603791e-01,  1.90029098e-01,\n",
       "        -4.48596959e-01, -9.05401825e-01,  8.37390984e-01,\n",
       "         1.30269812e+00, -5.82640810e-01, -7.26629790e-01,\n",
       "         2.07076654e-01,  1.92773113e+00,  1.31994445e+00,\n",
       "        -1.12115562e+00,  2.40629762e+00,  7.96292977e-02,\n",
       "         1.07212213e+00, -7.56998744e-01,  4.56472196e-01,\n",
       "        -8.25255190e-01, -9.75256441e-01, -1.82712453e+00,\n",
       "        -9.92277428e-01,  3.35983366e-01,  2.39571155e-01,\n",
       "         9.30898229e-01,  1.02814360e+00,  1.10165233e+00,\n",
       "         6.80830539e-02, -6.37169525e-02,  4.89166555e-01,\n",
       "         9.69324766e-02,  2.39699131e+00,  3.75214405e-01,\n",
       "        -1.00075717e+00,  1.17907297e-01,  1.18927590e-02,\n",
       "        -7.82455674e-01,  9.76501018e-01,  2.16267395e+00,\n",
       "         5.67663468e-01,  1.67864900e+00,  1.16218662e+00,\n",
       "         1.28483635e+00,  5.43890143e-01, -1.66677448e+00,\n",
       "        -1.48774157e+00, -4.01858164e-01,  2.12565447e+00,\n",
       "         7.55167695e-02,  6.17201983e-01, -3.19653140e-01,\n",
       "        -1.27405218e+00, -4.34030452e-01,  1.34980214e+00,\n",
       "         1.71583661e-01, -1.80803081e+00, -2.16882681e+00,\n",
       "         3.68179226e-01, -3.92537845e-01, -1.47364902e-01],\n",
       "       [ 1.93924668e+00,  1.35515190e+00,  3.44779029e-01,\n",
       "        -6.55703704e-01, -1.25750056e+00,  1.70001501e+00,\n",
       "         9.39999554e-01, -4.75449318e-01, -4.25774442e-01,\n",
       "         2.71854217e-01,  2.15882507e+00,  1.42788189e+00,\n",
       "        -1.09163576e+00,  2.41067526e+00,  2.15542899e-01,\n",
       "         8.67153436e-01, -1.12286199e+00,  7.15549087e-02,\n",
       "        -7.16893340e-01, -7.15960035e-01, -1.87252569e+00,\n",
       "        -8.00058047e-01,  1.99054266e-01,  7.03684118e-02,\n",
       "         8.27406871e-01,  1.29480822e+00,  9.52358470e-01,\n",
       "         6.72505617e-01, -1.00191413e-01,  5.99942441e-01,\n",
       "        -1.52933064e-01,  2.61640178e+00,  2.31239590e-01,\n",
       "        -1.17433475e+00,  2.12312347e-01,  1.28486206e-01,\n",
       "        -8.57160383e-01,  9.44157372e-01,  1.98948129e+00,\n",
       "         7.29901671e-01,  1.48076070e+00,  1.31542049e+00,\n",
       "         1.64145952e+00,  6.44636438e-01, -1.51482511e+00,\n",
       "        -1.59497228e+00, -5.10165841e-01,  2.06624611e+00,\n",
       "         9.83100973e-02,  6.14083333e-01,  1.71398497e-01,\n",
       "        -1.15786031e+00, -3.97198805e-01,  9.97265246e-01,\n",
       "         2.86468608e-01, -1.74441280e+00, -2.04895030e+00,\n",
       "         2.86198948e-01, -3.59876544e-01, -1.11835532e-01]])"
      ]
     },
     "execution_count": 4,
     "metadata": {},
     "output_type": "execute_result"
    }
   ],
   "source": [
    "x5[23]"
   ]
  },
  {
   "cell_type": "code",
   "execution_count": null,
   "metadata": {},
   "outputs": [],
   "source": []
  }
 ],
 "metadata": {
  "interpreter": {
   "hash": "40d3a090f54c6569ab1632332b64b2c03c39dcf918b08424e98f38b5ae0af88f"
  },
  "kernelspec": {
   "display_name": "Python 3 (ipykernel)",
   "language": "python",
   "name": "python3"
  },
  "language_info": {
   "codemirror_mode": {
    "name": "ipython",
    "version": 3
   },
   "file_extension": ".py",
   "mimetype": "text/x-python",
   "name": "python",
   "nbconvert_exporter": "python",
   "pygments_lexer": "ipython3",
   "version": "3.9.10"
  }
 },
 "nbformat": 4,
 "nbformat_minor": 2
}
